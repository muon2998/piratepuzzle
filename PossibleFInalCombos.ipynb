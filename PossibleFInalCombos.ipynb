{
 "cells": [
  {
   "cell_type": "markdown",
   "metadata": {},
   "source": [
    "## Write down all the answers to the 12 keys\n",
    "For some of which the answer is not 100% certain, list all possible answers."
   ]
  },
  {
   "cell_type": "code",
   "execution_count": 50,
   "metadata": {},
   "outputs": [],
   "source": [
    "clue_1 = [\"Grainne Ni Mhaille\"]\n",
    "clue_2 = [\"Companions\", \"Mary Read Martel\", \"Time They\"]\n",
    "clue_3 = [\"Red\"]\n",
    "clue_4 = [\"Pamlico\"]\n",
    "clue_5 = [\"Twenty Four\", \"Eight\", \"Sixteen\"]\n",
    "clue_6 = [\"queen elizabeth I\", \"Queen elizabeth the first\", \"elizabeth\", \"Elizabeth Tudor\", \"elizabeth i\"]\n",
    "clue_7 = [\"Stan Rogers\"]\n",
    "clue_8 = [\"Captain Black Bart\"]\n",
    "clue_9 = [\"Royal Fortune\"]\n",
    "clue_10 = [\"Montserrat\"]\n",
    "clue_11 = [\"Silver\"]\n",
    "clue_12 = [\"Tortuga\"]"
   ]
  },
  {
   "cell_type": "markdown",
   "metadata": {},
   "source": [
    "## Solving Center Ciphertext"
   ]
  },
  {
   "cell_type": "markdown",
   "metadata": {},
   "source": [
    "### Clue Box 3): Combine all the keys in the right order padawan\n",
    "This might suggest that if we put the answers to all keys in the right order from the 6 other ciphertexts, this might lead to another new key that will be needed to solve the central ciphertext."
   ]
  },
  {
   "cell_type": "markdown",
   "metadata": {},
   "source": [
    "#### First, we need to define a function that can solve Vigenere or Running Ciphers that we will use later."
   ]
  },
  {
   "cell_type": "code",
   "execution_count": 51,
   "metadata": {},
   "outputs": [],
   "source": [
    "def vigenere_dec(dec_key, input_string):\n",
    "    alphabet = \"abcdefghijklmnopqrstuvwxyz\"\n",
    "    dec_string = \"\"\n",
    "\n",
    "    # Takes encrpytion key from user\n",
    "    print(f\"\\nDecryption Key: {dec_key}\")\n",
    "    dec_key = dec_key.lower()\n",
    "\n",
    "    # Takes string from user\n",
    "    input_string = input_string.lower()\n",
    "\n",
    "    # Lengths of input_string\n",
    "    string_length = len(input_string)\n",
    "\n",
    "    # Expands the encryption key to make it longer than the inputted string\n",
    "    expanded_key = dec_key\n",
    "    expanded_key_length = len(expanded_key)\n",
    "\n",
    "    while expanded_key_length < string_length:\n",
    "        # Adds another repetition of the encryption key\n",
    "        expanded_key = expanded_key + dec_key\n",
    "        expanded_key_length = len(expanded_key)\n",
    "\n",
    "    key_position = 0\n",
    "\n",
    "    for letter in input_string:\n",
    "        if letter in alphabet:\n",
    "            # cycles through each letter to find it's numeric position in the alphabet\n",
    "            position = alphabet.find(letter)\n",
    "            # moves along key and finds the characters value\n",
    "            key_character = expanded_key[key_position]\n",
    "            key_character_position = alphabet.find(key_character)\n",
    "            key_position += 1\n",
    "            # changes the original of the input string character\n",
    "            new_position = position - key_character_position\n",
    "            if new_position > 26:\n",
    "                new_position = new_position + 26\n",
    "            new_character = alphabet[new_position]\n",
    "            dec_string = dec_string + new_character\n",
    "        else:\n",
    "            dec_string = dec_string + letter\n",
    "    print(f\"Decrypted text: {dec_string.upper()}\")\n",
    "    return(dec_string)"
   ]
  },
  {
   "cell_type": "markdown",
   "metadata": {},
   "source": [
    "#### Attempt 1: Combine all the words of keys 1-12 to generate a long keyword to use in a running key cipher."
   ]
  },
  {
   "cell_type": "markdown",
   "metadata": {},
   "source": [
    "Based on combining keys 1-12, and accounting for the different possibilities based on the answer options, here is a list of possible keys for the running cipher:"
   ]
  },
  {
   "cell_type": "code",
   "execution_count": 52,
   "metadata": {},
   "outputs": [
    {
     "name": "stdout",
     "output_type": "stream",
     "text": [
      "109  GrainneNiMhailleTimeTheyRedPamlicoEightelizabethStanRogersCaptainBlackBartRoyalFortuneMontserratSilverTortuga\n",
      "111  GrainneNiMhailleCompanionsRedPamlicoEightelizabethStanRogersCaptainBlackBartRoyalFortuneMontserratSilverTortuga\n",
      "110  GrainneNiMhailleTimeTheyRedPamlicoEightelizabethiStanRogersCaptainBlackBartRoyalFortuneMontserratSilverTortuga\n",
      "111  GrainneNiMhailleTimeTheyRedPamlicoSixteenelizabethStanRogersCaptainBlackBartRoyalFortuneMontserratSilverTortuga\n",
      "112  GrainneNiMhailleCompanionsRedPamlicoEightelizabethiStanRogersCaptainBlackBartRoyalFortuneMontserratSilverTortuga\n",
      "113  GrainneNiMhailleCompanionsRedPamlicoSixteenelizabethStanRogersCaptainBlackBartRoyalFortuneMontserratSilverTortuga\n",
      "112  GrainneNiMhailleTimeTheyRedPamlicoSixteenelizabethiStanRogersCaptainBlackBartRoyalFortuneMontserratSilverTortuga\n",
      "114  GrainneNiMhailleCompanionsRedPamlicoSixteenelizabethiStanRogersCaptainBlackBartRoyalFortuneMontserratSilverTortuga\n",
      "114  GrainneNiMhailleTimeTheyRedPamlicoTwentyFourelizabethStanRogersCaptainBlackBartRoyalFortuneMontserratSilverTortuga\n",
      "114  GrainneNiMhailleTimeTheyRedPamlicoEightElizabethTudorStanRogersCaptainBlackBartRoyalFortuneMontserratSilverTortuga\n",
      "116  GrainneNiMhailleCompanionsRedPamlicoTwentyFourelizabethStanRogersCaptainBlackBartRoyalFortuneMontserratSilverTortuga\n",
      "116  GrainneNiMhailleCompanionsRedPamlicoEightElizabethTudorStanRogersCaptainBlackBartRoyalFortuneMontserratSilverTortuga\n",
      "115  GrainneNiMhailleMaryReadMartelRedPamlicoEightelizabethStanRogersCaptainBlackBartRoyalFortuneMontserratSilverTortuga\n",
      "115  GrainneNiMhailleTimeTheyRedPamlicoTwentyFourelizabethiStanRogersCaptainBlackBartRoyalFortuneMontserratSilverTortuga\n",
      "115  GrainneNiMhailleTimeTheyRedPamlicoEightqueenelizabethIStanRogersCaptainBlackBartRoyalFortuneMontserratSilverTortuga\n",
      "116  GrainneNiMhailleTimeTheyRedPamlicoSixteenElizabethTudorStanRogersCaptainBlackBartRoyalFortuneMontserratSilverTortuga\n",
      "117  GrainneNiMhailleCompanionsRedPamlicoTwentyFourelizabethiStanRogersCaptainBlackBartRoyalFortuneMontserratSilverTortuga\n",
      "117  GrainneNiMhailleCompanionsRedPamlicoEightqueenelizabethIStanRogersCaptainBlackBartRoyalFortuneMontserratSilverTortuga\n",
      "118  GrainneNiMhailleCompanionsRedPamlicoSixteenElizabethTudorStanRogersCaptainBlackBartRoyalFortuneMontserratSilverTortuga\n",
      "116  GrainneNiMhailleMaryReadMartelRedPamlicoEightelizabethiStanRogersCaptainBlackBartRoyalFortuneMontserratSilverTortuga\n",
      "117  GrainneNiMhailleMaryReadMartelRedPamlicoSixteenelizabethStanRogersCaptainBlackBartRoyalFortuneMontserratSilverTortuga\n",
      "117  GrainneNiMhailleTimeTheyRedPamlicoSixteenqueenelizabethIStanRogersCaptainBlackBartRoyalFortuneMontserratSilverTortuga\n",
      "119  GrainneNiMhailleCompanionsRedPamlicoSixteenqueenelizabethIStanRogersCaptainBlackBartRoyalFortuneMontserratSilverTortuga\n",
      "118  GrainneNiMhailleMaryReadMartelRedPamlicoSixteenelizabethiStanRogersCaptainBlackBartRoyalFortuneMontserratSilverTortuga\n",
      "119  GrainneNiMhailleTimeTheyRedPamlicoTwentyFourElizabethTudorStanRogersCaptainBlackBartRoyalFortuneMontserratSilverTortuga\n",
      "121  GrainneNiMhailleCompanionsRedPamlicoTwentyFourElizabethTudorStanRogersCaptainBlackBartRoyalFortuneMontserratSilverTortuga\n",
      "120  GrainneNiMhailleMaryReadMartelRedPamlicoTwentyFourelizabethStanRogersCaptainBlackBartRoyalFortuneMontserratSilverTortuga\n",
      "120  GrainneNiMhailleMaryReadMartelRedPamlicoEightElizabethTudorStanRogersCaptainBlackBartRoyalFortuneMontserratSilverTortuga\n",
      "120  GrainneNiMhailleTimeTheyRedPamlicoTwentyFourqueenelizabethIStanRogersCaptainBlackBartRoyalFortuneMontserratSilverTortuga\n",
      "122  GrainneNiMhailleCompanionsRedPamlicoTwentyFourqueenelizabethIStanRogersCaptainBlackBartRoyalFortuneMontserratSilverTortuga\n",
      "121  GrainneNiMhailleMaryReadMartelRedPamlicoTwentyFourelizabethiStanRogersCaptainBlackBartRoyalFortuneMontserratSilverTortuga\n",
      "121  GrainneNiMhailleMaryReadMartelRedPamlicoEightqueenelizabethIStanRogersCaptainBlackBartRoyalFortuneMontserratSilverTortuga\n",
      "122  GrainneNiMhailleMaryReadMartelRedPamlicoSixteenElizabethTudorStanRogersCaptainBlackBartRoyalFortuneMontserratSilverTortuga\n",
      "122  GrainneNiMhailleTimeTheyRedPamlicoEightQueenelizabeththefirstStanRogersCaptainBlackBartRoyalFortuneMontserratSilverTortuga\n",
      "124  GrainneNiMhailleCompanionsRedPamlicoEightQueenelizabeththefirstStanRogersCaptainBlackBartRoyalFortuneMontserratSilverTortuga\n",
      "123  GrainneNiMhailleMaryReadMartelRedPamlicoSixteenqueenelizabethIStanRogersCaptainBlackBartRoyalFortuneMontserratSilverTortuga\n",
      "124  GrainneNiMhailleTimeTheyRedPamlicoSixteenQueenelizabeththefirstStanRogersCaptainBlackBartRoyalFortuneMontserratSilverTortuga\n",
      "126  GrainneNiMhailleCompanionsRedPamlicoSixteenQueenelizabeththefirstStanRogersCaptainBlackBartRoyalFortuneMontserratSilverTortuga\n",
      "125  GrainneNiMhailleMaryReadMartelRedPamlicoTwentyFourElizabethTudorStanRogersCaptainBlackBartRoyalFortuneMontserratSilverTortuga\n",
      "126  GrainneNiMhailleMaryReadMartelRedPamlicoTwentyFourqueenelizabethIStanRogersCaptainBlackBartRoyalFortuneMontserratSilverTortuga\n",
      "127  GrainneNiMhailleTimeTheyRedPamlicoTwentyFourQueenelizabeththefirstStanRogersCaptainBlackBartRoyalFortuneMontserratSilverTortuga\n",
      "129  GrainneNiMhailleCompanionsRedPamlicoTwentyFourQueenelizabeththefirstStanRogersCaptainBlackBartRoyalFortuneMontserratSilverTortuga\n",
      "128  GrainneNiMhailleMaryReadMartelRedPamlicoEightQueenelizabeththefirstStanRogersCaptainBlackBartRoyalFortuneMontserratSilverTortuga\n",
      "130  GrainneNiMhailleMaryReadMartelRedPamlicoSixteenQueenelizabeththefirstStanRogersCaptainBlackBartRoyalFortuneMontserratSilverTortuga\n",
      "133  GrainneNiMhailleMaryReadMartelRedPamlicoTwentyFourQueenelizabeththefirstStanRogersCaptainBlackBartRoyalFortuneMontserratSilverTortuga\n"
     ]
    }
   ],
   "source": [
    "allClues = [clue_1, clue_2, clue_3, clue_4, clue_5, clue_6, clue_7, clue_8, clue_9, clue_10, clue_11, clue_12]\n",
    "finalCombos = [' '.join(p) for p in product(clue_1, clue_2, clue_3, clue_4, clue_5, clue_6, clue_7, clue_8, clue_9, clue_10, clue_11, clue_12)]\n",
    "\n",
    "finalCombos = sorted(finalCombos, key=len)\n",
    "\n",
    "for item in finalCombos:\n",
    "    item = item.replace(\" \",\"\")\n",
    "    print(str(len(item)) + \"  \" + item)"
   ]
  },
  {
   "cell_type": "markdown",
   "metadata": {},
   "source": [
    "Now, let's run the Running Cipher on all these keys:"
   ]
  },
  {
   "cell_type": "code",
   "execution_count": 53,
   "metadata": {},
   "outputs": [
    {
     "name": "stdout",
     "output_type": "stream",
     "text": [
      "\n",
      "Your input string was was: DVTBVSEYFZHERISXKKJSEGIWPGJWDMNQGIJLXPEEBNCSBKBDQWNPMMHVVPCMYLQWEZMLDDIYLZDTRORANXWYQMEGFVTZLBNPCSYMRBXJHVQYRZBAFPVZSWKTFXGIIX\n",
      "\n",
      "Decryption Key: GRAINNENIMHAILLETIMETHEYREDPAMLICOEIGHTELIZABETHSTANROGERSCAPTAINBLACKBARTROYALFORTUNEMONTSERRATSILVERTORTUGA\n",
      "Decrypted text: XETTIFALXNAEJXHTRCXOLZEYYCGHDACIEUFDRILAQFDSAGIWYDNCVYBREXAMJSQORYBLBTHYUGMFTOGVZGDEDISSSCBVUKNWKKNRNKEVQCWSRTKAXCIVFOYMFPVXEE\n",
      "\n",
      "Decryption Key: GRAINNENIMHAILLECOMPANIONSREDPAMLICOEIGHTELIZABETHSTANROGERSCAPTAINBLACKBARTROYALFORTUNEMONTSERRATSILVERTORTUGA\n",
      "Decrypted text: XETTIFALXNAEJXHTIWXDETAICOSSAXNEVAHXTHYXIJRKCKAZXPVWMZQHPLLUWLBDERZKSDGOKZMAAATACSIHXSRCTHGGTXWYCZGEGGTSOHZFXTBUOPNMFSXLTQGAXM\n",
      "\n",
      "Decryption Key: GRAINNENIMHAILLETIMETHEYREDPAMLICOEIGHTELIZABETHISTANROGERSCAPTAINBLACKBARTROYALFORTUNEMONTSERRATSILVERTORTUGA\n",
      "Decrypted text: XETTIFALXNAEJXHTRCXOLZEYYCGHDACIEUFDRILAQFDSAGIWIEUPZVTPRYKKYWXWWMLADBYXLIKCDQRPIJFFWZAURIAHHKWPJAQBWXGQTEXELZVJFHIMOJCHYXYXXT\n",
      "\n",
      "Decryption Key: GRAINNENIMHAILLETIMETHEYREDPAMLICOSIXTEENELIZABETHSTANROGERSCAPTAINBLACKBARTROYALFORTUNEMONTSERRATSILVERTORTUGA\n",
      "Decrypted text: XETTIFALXNAEJXHTRCXOLZEYYCGHDACIEURDAWAAOJRKCKAZXPVWMZQHPLLUWLBDERZKSDGOKZMAAATACSIHXSRCTHGGTXWYCZGEGGTSOHZFXTBUOPNMFSXLTQGAXM\n",
      "\n",
      "Decryption Key: GRAINNENIMHAILLECOMPANIONSREDPAMLICOEIGHTELIZABETHISTANROGERSCAPTAINBLACKBARTROYALFORTUNEMONTSERRATSILVERTORTUGA\n",
      "Decrypted text: XETTIFALXNAEJXHTIWXDETAICOSSAXNEVAHXTHYXIJRKCKAZXPFXTMUEHJYVGJQHLZEYCSIWBYDCYXDCNMRKZTKTBJFMSJJYLSFUJQCFQCCHYFVAZYVRFJGGXLZIAM\n",
      "\n",
      "Decryption Key: GRAINNENIMHAILLECOMPANIONSREDPAMLICOSIXTEENELIZABETHSTANROGERSCAPTAINBLACKBARTROYALFORTUNEMONTSERRATSILVERTORTUGA\n",
      "Decrypted text: XETTIFALXNAEJXHTIWXDETAICOSSAXNEVAHXFHHLXJPOQCCDPSUIUTHIEBWIHTOWPGMDQCXYJPCTAVAMPXLTCVLMSRHLYIVLLBYTZTMODEXKAGHUFJEZKJXPSPUBIP\n",
      "\n",
      "Decryption Key: GRAINNENIMHAILLETIMETHEYREDPAMLICOSIXTEENELIZABETHISTANROGERSCAPTAINBLACKBARTROYALFORTUNEMONTSERRATSILVERTORTUGA\n",
      "Decrypted text: XETTIFALXNAEJXHTRCXOLZEYYCGHDACIEURDAWAAOJRKCKAZXPFXTMUEHJYVGJQHLZEYCSIWBYDCYXDCNMRKZTKTBJFMSJJYLSFUJQCFQCCHYFVAZYVRFJGGXLZIAM\n",
      "\n",
      "Decryption Key: GRAINNENIMHAILLECOMPANIONSREDPAMLICOSIXTEENELIZABETHISTANROGERSCAPTAINBLACKBARTROYALFORTUNEMONTSERRATSILVERTORTUGA\n",
      "Decrypted text: XETTIFALXNAEJXHTIWXDETAICOSSAXNEVAHXFHHLXJPOQCCDPSUIEUOVIYOGUUYUEKTLVQHNLXTSRXYJZZWNLYNNLIPNXOUXYBHMYJPYMRZFDIIGZPPISOXGBKYWBX\n",
      "\n",
      "Decryption Key: GRAINNENIMHAILLETIMETHEYREDPAMLICOTWENTYFOURELIZABETHSTANROGERSCAPTAINBLACKBARTROYALFORTUNEMONTSERRATSILVERTORTUGA\n",
      "Decrypted text: XETTIFALXNAEJXHTRCXOLZEYYCGHDACIEUQPTCLGWZIBXZTEQVJWFUOVIYOGUUYUEKTLVQHNLXTSRXYJZZWNLYNNLIPNXOUXYBHMYJPYMRZFDIIGZPPISOXGBKYWBX\n",
      "\n",
      "Decryption Key: GRAINNENIMHAILLETIMETHEYREDPAMLICOEIGHTELIZABETHTUDORSTANROGERSCAPTAINBLACKBARTROYALFORTUNEMONTSERRATSILVERTORTUGA\n",
      "Decrypted text: XETTIFALXNAEJXHTRCXOLZEYYCGHDACIEUFDRILAQFDSAGIWXCKBVUOVIYOGUUYUEKTLVQHNLXTSRXYJZZWNLYNNLIPNXOUXYBHMYJPYMRZFDIIGZPPISOXGBKYWBX\n",
      "\n",
      "Decryption Key: GRAINNENIMHAILLECOMPANIONSREDPAMLICOTWENTYFOURELIZABETHSTANROGERSCAPTAINBLACKBARTROYALFORTUNEMONTSERRATSILVERTORTUGA\n",
      "Decrypted text: XETTIFALXNAEJXHTIWXDETAICOSSAXNEVAHXETARIPXEHTXSIXNOITADCPPVKFMFMXMWKDALKODRHNRJUGIAQBZSOCZMHPZCJAUVABERZKVUAGNJMVPZMFKLSKCVAL\n",
      "\n",
      "Decryption Key: GRAINNENIMHAILLECOMPANIONSREDPAMLICOEIGHTELIZABETHTUDORSTANROGERSCAPTAINBLACKBARTROYALFORTUNEMONTSERRATSILVERTORTUGA\n",
      "Decrypted text: XETTIFALXNAEJXHTIWXDETAICOSSAXNEVAHXTHYXIJRKCKAZXPUVJYQDCPPVKFMFMXMWKDALKODRHNRJUGIAQBZSOCZMHPZCJAUVABERZKVUAGNJMVPZMFKLSKCVAL\n",
      "\n",
      "Decryption Key: GRAINNENIMHAILLEMARYREADMARTELREDPAMLICOEIGHTELIZABETHSTANROGERSCAPTAINBLACKBARTROYALFORTUNEMONTSERRATSILVERTORTUGA\n",
      "Decrypted text: XETTIFALXNAEJXHTYKSUNCITDGSDZBWMDTJZMHCQXFWLIGQVRWMLTFPCVCLYSHZECZXSDVVXAZBJQOAHWJYYFHQPMBGVZNAWKOHVRIFBWAMHYLKHLJVTBWCGSTTAWQ\n",
      "\n",
      "Decryption Key: GRAINNENIMHAILLETIMETHEYREDPAMLICOTWENTYFOURELIZABETHISTANROGERSCAPTAINBLACKBARTROYALFORTUNEMONTSERRATSILVERTORTUGA\n",
      "Decrypted text: XETTIFALXNAEJXHTRCXOLZEYYCGHDACIEUQPTCLGWZIBXZTEQVJWFEPCVCLYSHZECZXSDVVXAZBJQOAHWJYYFHQPMBGVZNAWKOHVRIFBWAMHYLKHLJVTBWCGSTTAWQ\n",
      "\n",
      "Decryption Key: GRAINNENIMHAILLETIMETHEYREDPAMLICOEIGHTQUEENELIZABETHISTANROGERSCAPTAINBLACKBARTROYALFORTUNEMONTSERRATSILVERTORTUGA\n",
      "Decrypted text: XETTIFALXNAEJXHTRCXOLZEYYCGHDACIEUFDRILOHJYFXZTEQVJWFEPCVCLYSHZECZXSDVVXAZBJQOAHWJYYFHQPMBGVZNAWKOHVRIFBWAMHYLKHLJVTBWCGSTTAWQ\n",
      "\n",
      "Decryption Key: GRAINNENIMHAILLETIMETHEYREDPAMLICOSIXTEENELIZABETHTUDORSTANROGERSCAPTAINBLACKBARTROYALFORTUNEMONTSERRATSILVERTORTUGA\n",
      "Decrypted text: XETTIFALXNAEJXHTRCXOLZEYYCGHDACIEURDAWAAOJRKCKAZXPUVJYQDCPPVKFMFMXMWKDALKODRHNRJUGIAQBZSOCZMHPZCJAUVABERZKVUAGNJMVPZMFKLSKCVAL\n",
      "\n",
      "Decryption Key: GRAINNENIMHAILLECOMPANIONSREDPAMLICOTWENTYFOURELIZABETHISTANROGERSCAPTAINBLACKBARTROYALFORTUNEMONTSERRATSILVERTORTUGA\n",
      "Decrypted text: XETTIFALXNAEJXHTIWXDETAICOSSAXNEVAHXETARIPXEHTXSIXNOITANDWCZHXKSNHKLOKIQYYSTPEQAWEFKSMTBREAFYXBBPZGIAKXQPNFDNIIMOWBTSQTTXKTEVP\n",
      "\n",
      "Decryption Key: GRAINNENIMHAILLECOMPANIONSREDPAMLICOEIGHTQUEENELIZABETHISTANROGERSCAPTAINBLACKBARTROYALFORTUNEMONTSERRATSILVERTORTUGA\n",
      "Decrypted text: XETTIFALXNAEJXHTIWXDETAICOSSAXNEVAHXTHYXIXIOXXXSIXNOITANDWCZHXKSNHKLOKIQYYSTPEQAWEFKSMTBREAFYXBBPZGIAKXQPNFDNIIMOWBTSQTTXKTEVP\n",
      "\n",
      "Decryption Key: GRAINNENIMHAILLECOMPANIONSREDPAMLICOSIXTEENELIZABETHTUDORSTANROGERSCAPTAINBLACKBARTROYALFORTUNEMONTSERRATSILVERTORTUGA\n",
      "Decrypted text: XETTIFALXNAEJXHTIWXDETAICOSSAXNEVAHXFHHLXJPOQCCDPSUITSEHEXJMLUCQAIUJDOPYDMCIRMHZNGDHCOEVAHCGROJDOFFUNKGJODINWVKHRYCFMWECFPTVEK\n",
      "\n",
      "Decryption Key: GRAINNENIMHAILLEMARYREADMARTELREDPAMLICOEIGHTELIZABETHISTANROGERSCAPTAINBLACKBARTROYALFORTUNEMONTSERRATSILVERTORTUGA\n",
      "Decrypted text: XETTIFALXNAEJXHTYKSUNCITDGSDZBWMDTJZMHCQXFWLIGQVRWMLTFZDCPPVKFMFMXMWKDALKODRHNRJUGIAQBZSOCZMHPZCJAUVABERZKVUAGNJMVPZMFKLSKCVAL\n",
      "\n",
      "Decryption Key: GRAINNENIMHAILLEMARYREADMARTELREDPAMLICOSIXTEENELIZABETHSTANROGERSCAPTAINBLACKBARTROYALFORTUNEMONTSERRATSILVERTORTUGA\n",
      "Decrypted text: XETTIFALXNAEJXHTYKSUNCITDGSDZBWMDTJZMHCQJFFZXGOZFOOPLIOODWCZHXKSNHKLOKIQYYSTPEQAWEFKSMTBREAFYXBBPZGIAKXQPNFDNIIMOWBTSQTTXKTEVP\n",
      "\n",
      "Decryption Key: GRAINNENIMHAILLETIMETHEYREDPAMLICOSIXTEENQUEENELIZABETHISTANROGERSCAPTAINBLACKBARTROYALFORTUNEMONTSERRATSILVERTORTUGA\n",
      "Decrypted text: XETTIFALXNAEJXHTRCXOLZEYYCGHDACIEURDAWAAOXIOXXXSIXNOITANDWCZHXKSNHKLOKIQYYSTPEQAWEFKSMTBREAFYXBBPZGIAKXQPNFDNIIMOWBTSQTTXKTEVP\n",
      "\n",
      "Decryption Key: GRAINNENIMHAILLECOMPANIONSREDPAMLICOSIXTEENQUEENELIZABETHISTANROGERSCAPTAINBLACKBARTROYALFORTUNEMONTSERRATSILVERTORTUGA\n",
      "Decrypted text: XETTIFALXNAEJXHTIWXDETAICOSSAXNEVAHXFHHLXJPCHGXQMLFQMLDCOHKTYYZIYVVTBDTFLRQSGOPQMXFFZYGGUQFISHALQELTZXGSHCYQGEXJMBEGYQKNOXYVVT\n",
      "\n",
      "Decryption Key: GRAINNENIMHAILLEMARYREADMARTELREDPAMLICOSIXTEENELIZABETHISTANROGERSCAPTAINBLACKBARTROYALFORTUNEMONTSERRATSILVERTORTUGA\n",
      "Decrypted text: XETTIFALXNAEJXHTYKSUNCITDGSDZBWMDTJZMHCQJFFZXGOZFOOPLIOONXJMLUCQAIUJDOPYDMCIRMHZNGDHCOEVAHCGROJDOFFUNKGJODINWVKHRYCFMWECFPTVEK\n",
      "\n",
      "Decryption Key: GRAINNENIMHAILLETIMETHEYREDPAMLICOTWENTYFOURELIZABETHTUDORSTANROGERSCAPTAINBLACKBARTROYALFORTUNEMONTSERRATSILVERTORTUGA\n",
      "Decrypted text: XETTIFALXNAEJXHTRCXOLZEYYCGHDACIEUQPTCLGWZIBXZTEQVJWFTNSHYKTYYZIYVVTBDTFLRQSGOPQMXFFZYGGUQFISHALQELTZXGSHCYQGEXJMBEGYQKNOXYVVT\n",
      "\n",
      "Decryption Key: GRAINNENIMHAILLECOMPANIONSREDPAMLICOTWENTYFOURELIZABETHTUDORSTANROGERSCAPTAINBLACKBARTROYALFORTUNEMONTSERRATSILVERTORTUGA\n",
      "Decrypted text: XETTIFALXNAEJXHTIWXDETAICOSSAXNEVAHXETARIPXEHTXSIXNOITACBMOVGSQJNLGHMLGYWGDLENGALNVYZTNSHVIUXKUVPOMYEIFFQEQFZRQFBYCLBDQNFRPIAK\n",
      "\n",
      "Decryption Key: GRAINNENIMHAILLEMARYREADMARTELREDPAMLICOTWENTYFOURELIZABETHSTANROGERSCAPTAINBLACKBARTROYALFORTUNEMONTSERRATSILVERTORTUGA\n",
      "Decrypted text: XETTIFALXNAEJXHTYKSUNCITDGSDZBWMDTJZMHCQIRYFIMWPWFJEENHURWVUFLDFQTIULBIJSZVGQDRYDWWHXVQIFKOLUITCYGKZYJTSQVXGJOGWOWHIZCETZGGAVK\n",
      "\n",
      "Decryption Key: GRAINNENIMHAILLEMARYREADMARTELREDPAMLICOEIGHTELIZABETHTUDORSTANROGERSCAPTAINBLACKBARTROYALFORTUNEMONTSERRATSILVERTORTUGA\n",
      "Decrypted text: XETTIFALXNAEJXHTYKSUNCITDGSDZBWMDTJZMHCQXFWLIGQVRWMLTFOBSBLUFLDFQTIULBIJSZVGQDRYDWWHXVQIFKOLUITCYGKZYJTSQVXGJOGWOWHIZCETZGGAVK\n",
      "\n",
      "Decryption Key: GRAINNENIMHAILLETIMETHEYREDPAMLICOTWENTYFOURQUEENELIZABETHISTANROGERSCAPTAINBLACKBARTROYALFORTUNEMONTSERRATSILVERTORTUGA\n",
      "Decrypted text: XETTIFALXNAEJXHTRCXOLZEYYCGHDACIEUQPTCLGWZIBLQXZDSCHNMGRCIUUFLDFQTIULBIJSZVGQDRYDWWHXVQIFKOLUITCYGKZYJTSQVXGJOGWOWHIZCETZGGAVK\n",
      "\n",
      "Decryption Key: GRAINNENIMHAILLECOMPANIONSREDPAMLICOTWENTYFOURQUEENELIZABETHISTANROGERSCAPTAINBLACKBARTROYALFORTUNEMONTSERRATSILVERTORTUGA\n",
      "Decrypted text: XETTIFALXNAEJXHTIWXDETAICOSSAXNEVAHXETARIPXEHTLJMSALBEIVULJFQTXWRIYFZMQWLKKTJBQPNVMXQVLPRXTOGNWWIFUADOERDEZYYHTPKLEGEFRZZXARIP\n",
      "\n",
      "Decryption Key: GRAINNENIMHAILLEMARYREADMARTELREDPAMLICOTWENTYFOURELIZABETHISTANROGERSCAPTAINBLACKBARTROYALFORTUNEMONTSERRATSILVERTORTUGA\n",
      "Decrypted text: XETTIFALXNAEJXHTYKSUNCITDGSDZBWMDTJZMHCQIRYFIMWPWFJEENHURWVEGSQJNLGHMLGYWGDLENGALNVYZTNSHVIUXKUVPOMYEIFFQEQFZRQFBYCLBDQNFRPIAK\n",
      "\n",
      "Decryption Key: GRAINNENIMHAILLEMARYREADMARTELREDPAMLICOEIGHTQUEENELIZABETHISTANROGERSCAPTAINBLACKBARTROYALFORTUNEMONTSERRATSILVERTORTUGA\n",
      "Decrypted text: XETTIFALXNAEJXHTYKSUNCITDGSDZBWMDTJZMHCQXFWLIUHZMJJEENHURWVEGSQJNLGHMLGYWGDLENGALNVYZTNSHVIUXKUVPOMYEIFFQEQFZRQFBYCLBDQNFRPIAK\n",
      "\n",
      "Decryption Key: GRAINNENIMHAILLEMARYREADMARTELREDPAMLICOSIXTEENELIZABETHTUDORSTANROGERSCAPTAINBLACKBARTROYALFORTUNEMONTSERRATSILVERTORTUGA\n",
      "Decrypted text: XETTIFALXNAEJXHTYKSUNCITDGSDZBWMDTJZMHCQJFFZXGOZFOOPLIOOCVZYHTXWRIYFZMQWLKKTJBQPNVMXQVLPRXTOGNWWIFUADOERDEZYYHTPKLEGEFRZZXARIP\n",
      "\n",
      "Decryption Key: GRAINNENIMHAILLETIMETHEYREDPAMLICOEIGHTQUEENELIZABETHTHEFIRSTSTANROGERSCAPTAINBLACKBARTROYALFORTUNEMONTSERRATSILVERTORTUGA\n",
      "Decrypted text: XETTIFALXNAEJXHTRCXOLZEYYCGHDACIEUFDRILOHJYFXZTEQVJWFTARQHLUFTXWRIYFZMQWLKKTJBQPNVMXQVLPRXTOGNWWIFUADOERDEZYYHTPKLEGEFRZZXARIP\n",
      "\n",
      "Decryption Key: GRAINNENIMHAILLECOMPANIONSREDPAMLICOEIGHTQUEENELIZABETHTHEFIRSTSTANROGERSCAPTAINBLACKBARTROYALFORTUNEMONTSERRATSILVERTORTUGA\n",
      "Decrypted text: XETTIFALXNAEJXHTIWXDETAICOSSAXNEVAHXTHYXIXIOXXXSIXNOITACOLXEHTXELZZUPXEHTXDEYOJNMMWWGLEPMEFBLQIBLZEZNPJWODMHAZIIXEAVBDWCMDAICG\n",
      "\n",
      "Decryption Key: GRAINNENIMHAILLEMARYREADMARTELREDPAMLICOSIXTEENQUEENELIZABETHISTANROGERSCAPTAINBLACKBARTROYALFORTUNEMONTSERRATSILVERTORTUGA\n",
      "Decrypted text: XETTIFALXNAEJXHTYKSUNCITDGSDZBWMDTJZMHCQJFFZXGONWSJCIBZWVOYTRDYDEMVXXZRGJZOARGEZCXUOPMNNOHVZAWZYJYLIFNKQPRZHRGJSUURIZITALRGCRX\n",
      "\n",
      "Decryption Key: GRAINNENIMHAILLETIMETHEYREDPAMLICOSIXTEENQUEENELIZABETHTHEFIRSTSTANROGERSCAPTAINBLACKBARTROYALFORTUNEMONTSERRATSILVERTORTUGA\n",
      "Decrypted text: XETTIFALXNAEJXHTRCXOLZEYYCGHDACIEURDAWAAOXIOXXXSIXNOITACOLXEHTXELZZUPXEHTXDEYOJNMMWWGLEPMEFBLQIBLZEZNPJWODMHAZIIXEAVBDWCMDAICG\n",
      "\n",
      "Decryption Key: GRAINNENIMHAILLECOMPANIONSREDPAMLICOSIXTEENQUEENELIZABETHTHEFIRSTSTANROGERSCAPTAINBLACKBARTROYALFORTUNEMONTSERRATSILVERTORTUGA\n",
      "Decrypted text: XETTIFALXNAEJXHTIWXDETAICOSSAXNEVAHXFHHLXJPCHGXQMLFQMLDCOWVITDZELHTLQMUSHILRRZYAFKVNQKUFFEAIXDNEXEHTXOTXTIXGNIKAMXNOXSTARGNOCX\n",
      "\n",
      "Decryption Key: GRAINNENIMHAILLEMARYREADMARTELREDPAMLICOTWENTYFOURELIZABETHTUDORSTANROGERSCAPTAINBLACKBARTROYALFORTUNEMONTSERRATSILVERTORTUGA\n",
      "Decrypted text: XETTIFALXNAEJXHTYKSUNCITDGSDZBWMDTJZMHCQIRYFIMWPWFJEENHURWVTEICFMGMYMPCUUHBTCVRSAWLYOCDGOCCLNBCKOBFSEXLVUCYUAIBHNHKEOFRFOEMCIR\n",
      "\n",
      "Decryption Key: GRAINNENIMHAILLEMARYREADMARTELREDPAMLICOTWENTYFOURQUEENELIZABETHISTANROGERSCAPTAINBLACKBARTROYALFORTUNEMONTSERRATSILVERTORTUGA\n",
      "Decrypted text: XETTIFALXNAEJXHTYKSUNCITDGSDZBWMDTJZMHCQIRYFIMWPWFXVIIURKHDMXHXPWHTLQMUSHILRRZYAFKVNQKUFFEAIXDNEXEHTXOTXTIXGNIKAMXNOXSTARGNOCX\n",
      "\n",
      "Decryption Key: GRAINNENIMHAILLETIMETHEYREDPAMLICOTWENTYFOURQUEENELIZABETHTHEFIRSTSTANROGERSCAPTAINBLACKBARTROYALFORTUNEMONTSERRATSILVERTORTUGA\n",
      "Decrypted text: XETTIFALXNAEJXHTRCXOLZEYYCGHDACIEUQPTCLGWZIBLQXZDSCHNMGRCIJFUGIFMGUSDQRKFVMBPOCHNPJXFMCWEVCGUNPPRNKVYHKFVHDFZVKJFWDRHBGCMJPPOR\n",
      "\n",
      "Decryption Key: GRAINNENIMHAILLECOMPANIONSREDPAMLICOTWENTYFOURQUEENELIZABETHTHEFIRSTSTANROGERSCAPTAINBLACKBARTROYALFORTUNEMONTSERRATSILVERTORTUGA\n",
      "Decrypted text: XETTIFALXNAEJXHTIWXDETAICOSSAXNEVAHXETARIPXEHTLJMSALBEIVULJFFEMRWIUSLKILULXPAWPAYEWQDLTGDLSZUIWBESNHDKEPUREKEGJWOYVGAOZYBGNURE\n",
      "\n",
      "Decryption Key: GRAINNENIMHAILLEMARYREADMARTELREDPAMLICOEIGHTQUEENELIZABETHTHEFIRSTSTANROGERSCAPTAINBLACKBARTROYALFORTUNEMONTSERRATSILVERTORTUGA\n",
      "Decrypted text: XETTIFALXNAEJXHTYKSUNCITDGSDZBWMDTJZMHCQXFWLIUHZMJJEENHURWVTRHLONHTTKDVHXTZCZMRLUXOLPBEEVUTISKZRCHTYAIDWDJCLYHXJOPCHKLPPOESRPD\n",
      "\n",
      "Decryption Key: GRAINNENIMHAILLEMARYREADMARTELREDPAMLICOSIXTEENQUEENELIZABETHTHEFIRSTSTANROGERSCAPTAINBLACKBARTROYALFORTUNEMONTSERRATSILVERTORTUGA\n",
      "Decrypted text: XETTIFALXNAEJXHTYKSUNCITDGSDZBWMDTJZMHCQJFFZXGONWSJCIBZWVOYTRSJSZRVTKLPYYIPNNXZYNIDYIZDVFTJYLKUYOUYBMNGQNIMMDMIIBYEZZECIKTPPUG\n",
      "\n",
      "Decryption Key: GRAINNENIMHAILLEMARYREADMARTELREDPAMLICOTWENTYFOURQUEENELIZABETHTHEFIRSTSTANROGERSCAPTAINBLACKBARTROYALFORTUNEMONTSERRATSILVERTORTUGA\n",
      "Decrypted text: XETTIFALXNAEJXHTYKSUNCITDGSDZBWMDTJZMHCQIRYFIMWPWFXVIIURKHDMXHXPLSIGVMQFTGDGAALWWFUYBTEYSUIZJRMPLZHYTBMETEXEEVPMSWDVBFKANPVNEG\n"
     ]
    }
   ],
   "source": [
    "ciphertext = \"DVTBVSEYFZHERISXKKJSEGIWPGJWDMNQGIJLXPEEBNCSBKBDQWNPMMHVVPCMYLQWEZMLDDIYLZDTRORANXWYQMEGFVTZLBNPCSYMRBXJHVQYRZBAFPVZSWKTFXGIIX\"\n",
    "print(f\"\\nYour input string was was: {ciphertext}\")\n",
    "for key in finalCombos:\n",
    "    key = key.replace(\" \",\"\").upper()\n",
    "    vigenere_dec(dec_key=key, input_string=ciphertext)"
   ]
  },
  {
   "cell_type": "markdown",
   "metadata": {},
   "source": [
    "Unfortunately, it doesn't look like any of the keys worked. This could mean:\n",
    "1. We have the wrong key\n",
    "    - The answer to the keys may be wrong.\n",
    "    - The order in which the keys are combined may be wrong.\n",
    "2. It is not a Running Cipher\n",
    "3. These key do not apply to the middle ciphertext."
   ]
  },
  {
   "cell_type": "markdown",
   "metadata": {},
   "source": [
    "#### Attempt 2: Combine the first letter of keys 1-12 to generate keys to use in a regular Vigenere Cipher."
   ]
  },
  {
   "cell_type": "markdown",
   "metadata": {},
   "source": [
    "Based on combining the first letters keys 1-12, and accounting for the different answer options, here is a list of possible keys based on the first letter:"
   ]
  },
  {
   "cell_type": "code",
   "execution_count": 54,
   "metadata": {},
   "outputs": [
    {
     "name": "stdout",
     "output_type": "stream",
     "text": [
      "GCRPTQSCRMST\n",
      "GCRPTESCRMST\n",
      "GCRPEQSCRMST\n",
      "GCRPEESCRMST\n",
      "GCRPSQSCRMST\n",
      "GCRPSESCRMST\n",
      "GMRPTQSCRMST\n",
      "GMRPTESCRMST\n",
      "GMRPEQSCRMST\n",
      "GMRPEESCRMST\n",
      "GMRPSQSCRMST\n",
      "GMRPSESCRMST\n",
      "GTRPTQSCRMST\n",
      "GTRPTESCRMST\n",
      "GTRPEQSCRMST\n",
      "GTRPEESCRMST\n",
      "GTRPSQSCRMST\n",
      "GTRPSESCRMST\n"
     ]
    }
   ],
   "source": [
    "firstLetter = []\n",
    "for item in allClues:\n",
    "    sublist = []\n",
    "    for word in item:\n",
    "        letter = word[0].upper()\n",
    "        if letter not in sublist:\n",
    "            sublist.append(letter)\n",
    "    firstLetter.append(sublist)\n",
    "\n",
    "# for i in range(12):\n",
    "#     print(f\"firstLetter[{i}]\", end=\",\", sep=\",\")\n",
    "\n",
    "finalCombosLetters = [''.join(p) for p in product(firstLetter[0],firstLetter[1],firstLetter[2],firstLetter[3],firstLetter[4],firstLetter[5],firstLetter[6],firstLetter[7],firstLetter[8],firstLetter[9],firstLetter[10],firstLetter[11])]\n",
    "for item in finalCombosLetters:\n",
    "    print(item)"
   ]
  },
  {
   "cell_type": "markdown",
   "metadata": {},
   "source": [
    "Now, let's run the regular Vigenere cipher on all these keys:"
   ]
  },
  {
   "cell_type": "code",
   "execution_count": 55,
   "metadata": {},
   "outputs": [
    {
     "name": "stdout",
     "output_type": "stream",
     "text": [
      "\n",
      "Your input string was was: DVTBVSEYFZHERISXKKJSEGIWPGJWDMNQGIJLXPEEBNCSBKBDQWNPMMHVVPCMYLQWEZMLDDIYLZDTRORANXWYQMEGFVTZLBNPCSYMRBXJHVQYRZBAFPVZSWKTFXGIIX\n",
      "\n",
      "Decryption Key: GCRPTQSCRMST\n",
      "Decrypted text: XTCMCCMWONPLLGBIRURQNUQDJESHKWVOPWRSRNNPIXKQKYJKKUWATWPTEDKTSJZHLJUJMRQFFXMEYYZYWLEFKKNRMFBXUPVWWQHXYLFHQJYFLXKLMZDXBKSAZVPTPH\n",
      "\n",
      "Decryption Key: GCRPTESCRMST\n",
      "Decrypted text: XTCMCOMWONPLLGBIRGRQNUQDJESHKIVOPWRSRNNPIJKQKYJKKUWATIPTEDKTSJZHLVUJMRQFFXMEYKZYWLEFKKNRMRBXUPVWWQHXYXFHQJYFLXKLMLDXBKSAZVPTPT\n",
      "\n",
      "Decryption Key: GCRPEQSCRMST\n",
      "Decrypted text: XTCMRCMWONPLLGBIGURQNUQDJESHZWVOPWRSRNNPXXKQKYJKKUWAIWPTEDKTSJZHAJUJMRQFFXMENYZYWLEFKKNRBFBXUPVWWQHXNLFHQJYFLXKLBZDXBKSAZVPTEH\n",
      "\n",
      "Decryption Key: GCRPEESCRMST\n",
      "Decrypted text: XTCMROMWONPLLGBIGGRQNUQDJESHZIVOPWRSRNNPXJKQKYJKKUWAIIPTEDKTSJZHAVUJMRQFFXMENKZYWLEFKKNRBRBXUPVWWQHXNXFHQJYFLXKLBLDXBKSAZVPTET\n",
      "\n",
      "Decryption Key: GCRPSQSCRMST\n",
      "Decrypted text: XTCMDCMWONPLLGBISURQNUQDJESHLWVOPWRSRNNPJXKQKYJKKUWAUWPTEDKTSJZHMJUJMRQFFXMEZYZYWLEFKKNRNFBXUPVWWQHXZLFHQJYFLXKLNZDXBKSAZVPTQH\n",
      "\n",
      "Decryption Key: GCRPSESCRMST\n",
      "Decrypted text: XTCMDOMWONPLLGBISGRQNUQDJESHLIVOPWRSRNNPJJKQKYJKKUWAUIPTEDKTSJZHMVUJMRQFFXMEZKZYWLEFKKNRNRBXUPVWWQHXZXFHQJYFLXKLNLDXBKSAZVPTQT\n",
      "\n",
      "Decryption Key: GMRPTQSCRMST\n",
      "Decrypted text: XJCMCCMWONPLLWBIRURQNUQDJUSHKWVOPWRSRDNPIXKQKYJKKKWATWPTEDKTSZZHLJUJMRQFFNMEYYZYWLEFKANRMFBXUPVWWGHXYLFHQJYFLNKLMZDXBKSAZLPTPH\n",
      "\n",
      "Decryption Key: GMRPTESCRMST\n",
      "Decrypted text: XJCMCOMWONPLLWBIRGRQNUQDJUSHKIVOPWRSRDNPIJKQKYJKKKWATIPTEDKTSZZHLVUJMRQFFNMEYKZYWLEFKANRMRBXUPVWWGHXYXFHQJYFLNKLMLDXBKSAZLPTPT\n",
      "\n",
      "Decryption Key: GMRPEQSCRMST\n",
      "Decrypted text: XJCMRCMWONPLLWBIGURQNUQDJUSHZWVOPWRSRDNPXXKQKYJKKKWAIWPTEDKTSZZHAJUJMRQFFNMENYZYWLEFKANRBFBXUPVWWGHXNLFHQJYFLNKLBZDXBKSAZLPTEH\n",
      "\n",
      "Decryption Key: GMRPEESCRMST\n",
      "Decrypted text: XJCMROMWONPLLWBIGGRQNUQDJUSHZIVOPWRSRDNPXJKQKYJKKKWAIIPTEDKTSZZHAVUJMRQFFNMENKZYWLEFKANRBRBXUPVWWGHXNXFHQJYFLNKLBLDXBKSAZLPTET\n",
      "\n",
      "Decryption Key: GMRPSQSCRMST\n",
      "Decrypted text: XJCMDCMWONPLLWBISURQNUQDJUSHLWVOPWRSRDNPJXKQKYJKKKWAUWPTEDKTSZZHMJUJMRQFFNMEZYZYWLEFKANRNFBXUPVWWGHXZLFHQJYFLNKLNZDXBKSAZLPTQH\n",
      "\n",
      "Decryption Key: GMRPSESCRMST\n",
      "Decrypted text: XJCMDOMWONPLLWBISGRQNUQDJUSHLIVOPWRSRDNPJJKQKYJKKKWAUIPTEDKTSZZHMVUJMRQFFNMEZKZYWLEFKANRNRBXUPVWWGHXZXFHQJYFLNKLNLDXBKSAZLPTQT\n",
      "\n",
      "Decryption Key: GTRPTQSCRMST\n",
      "Decrypted text: XCCMCCMWONPLLPBIRURQNUQDJNSHKWVOPWRSRWNPIXKQKYJKKDWATWPTEDKTSSZHLJUJMRQFFGMEYYZYWLEFKTNRMFBXUPVWWZHXYLFHQJYFLGKLMZDXBKSAZEPTPH\n",
      "\n",
      "Decryption Key: GTRPTESCRMST\n",
      "Decrypted text: XCCMCOMWONPLLPBIRGRQNUQDJNSHKIVOPWRSRWNPIJKQKYJKKDWATIPTEDKTSSZHLVUJMRQFFGMEYKZYWLEFKTNRMRBXUPVWWZHXYXFHQJYFLGKLMLDXBKSAZEPTPT\n",
      "\n",
      "Decryption Key: GTRPEQSCRMST\n",
      "Decrypted text: XCCMRCMWONPLLPBIGURQNUQDJNSHZWVOPWRSRWNPXXKQKYJKKDWAIWPTEDKTSSZHAJUJMRQFFGMENYZYWLEFKTNRBFBXUPVWWZHXNLFHQJYFLGKLBZDXBKSAZEPTEH\n",
      "\n",
      "Decryption Key: GTRPEESCRMST\n",
      "Decrypted text: XCCMROMWONPLLPBIGGRQNUQDJNSHZIVOPWRSRWNPXJKQKYJKKDWAIIPTEDKTSSZHAVUJMRQFFGMENKZYWLEFKTNRBRBXUPVWWZHXNXFHQJYFLGKLBLDXBKSAZEPTET\n",
      "\n",
      "Decryption Key: GTRPSQSCRMST\n",
      "Decrypted text: XCCMDCMWONPLLPBISURQNUQDJNSHLWVOPWRSRWNPJXKQKYJKKDWAUWPTEDKTSSZHMJUJMRQFFGMEZYZYWLEFKTNRNFBXUPVWWZHXZLFHQJYFLGKLNZDXBKSAZEPTQH\n",
      "\n",
      "Decryption Key: GTRPSESCRMST\n",
      "Decrypted text: XCCMDOMWONPLLPBISGRQNUQDJNSHLIVOPWRSRWNPJJKQKYJKKDWAUIPTEDKTSSZHMVUJMRQFFGMEZKZYWLEFKTNRNRBXUPVWWZHXZXFHQJYFLGKLNLDXBKSAZEPTQT\n"
     ]
    }
   ],
   "source": [
    "ciphertext = \"DVTBVSEYFZHERISXKKJSEGIWPGJWDMNQGIJLXPEEBNCSBKBDQWNPMMHVVPCMYLQWEZMLDDIYLZDTRORANXWYQMEGFVTZLBNPCSYMRBXJHVQYRZBAFPVZSWKTFXGIIX\"\n",
    "print(f\"\\nYour input string was was: {ciphertext}\")\n",
    "for key in finalCombosLetters:\n",
    "    vigenere_dec(dec_key=key, input_string=ciphertext)"
   ]
  },
  {
   "cell_type": "markdown",
   "metadata": {},
   "source": [
    "Unfortunately, it doesn't look like any of the keys worked. This could mean:\n",
    "1. We have the wrong key\n",
    "    - The answer to the keys may be wrong.\n",
    "    - The order in which the keys are combined may be wrong.\n",
    "2. It is not a Vigenere cipher.\n",
    "3. These key do not apply to the middle ciphertext."
   ]
  }
 ],
 "metadata": {
  "kernelspec": {
   "display_name": "Python 3",
   "language": "python",
   "name": "python3"
  },
  "language_info": {
   "codemirror_mode": {
    "name": "ipython",
    "version": 3
   },
   "file_extension": ".py",
   "mimetype": "text/x-python",
   "name": "python",
   "nbconvert_exporter": "python",
   "pygments_lexer": "ipython3",
   "version": "3.8.5"
  }
 },
 "nbformat": 4,
 "nbformat_minor": 4
}
